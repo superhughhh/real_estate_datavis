{
 "cells": [
  {
   "cell_type": "code",
   "execution_count": 1,
   "metadata": {},
   "outputs": [],
   "source": [
    "import pandas as pd\n",
    "import json"
   ]
  },
  {
   "cell_type": "code",
   "execution_count": 6,
   "metadata": {},
   "outputs": [
    {
     "data": {
      "text/plain": [
       "Index(['Unnamed: 0.1', 'Unnamed: 0', 'Code service sages',\n",
       "       'Reference document', '1 Articles CGI', '2 Articles CGI',\n",
       "       '3 Articles CGI', '4 Articles CGI', '5 Articles CGI', 'No disposition',\n",
       "       'Date mutation', 'Nature mutation', 'Valeur fonciere', 'No voie',\n",
       "       'B/T/Q', 'Type de voie', 'Code voie', 'Voie', 'Code postal', 'Commune',\n",
       "       'Code departement', 'Code commune', 'Prefixe de section', 'Section',\n",
       "       'No plan', 'No Volume', '1er lot', 'Surface Carrez du 1er lot',\n",
       "       '2eme lot', 'Surface Carrez du 2eme lot', '3eme lot',\n",
       "       'Surface Carrez du 3eme lot', '4eme lot', 'Surface Carrez du 4eme lot',\n",
       "       '5eme lot', 'Surface Carrez du 5eme lot', 'Nombre de lots',\n",
       "       'Code type local', 'Type local', 'Identifiant local',\n",
       "       'Surface reelle bati', 'Nombre pieces principales', 'Nature culture',\n",
       "       'Nature culture speciale', 'Surface terrain'],\n",
       "      dtype='object')"
      ]
     },
     "execution_count": 6,
     "metadata": {},
     "output_type": "execute_result"
    }
   ],
   "source": [
    "df19_22 = pd.read_csv('buch_19_to_22.csv')\n",
    "df19_22.columns"
   ]
  },
  {
   "cell_type": "code",
   "execution_count": 38,
   "metadata": {},
   "outputs": [],
   "source": [
    "col_19_22 = ['Date mutation', 'Nature mutation', 'Valeur fonciere', 'No voie',\n",
    "       'B/T/Q', 'Type de voie', 'Code voie', 'Voie', 'Code postal','Commune', 'Section',\n",
    "       'No plan', 'No Volume', 'Nombre de lots',\n",
    "       'Code type local', 'Type local', 'Identifiant local',\n",
    "       'Surface reelle bati', 'Nombre pieces principales', 'Nature culture',\n",
    "       'Nature culture speciale', 'Surface terrain']\n",
    "\n",
    "df_2_clean = df19_22[col_19_22]\n",
    "df_2_clean.to_csv(\"valeur_fonciere_buch_19_22.csv\")"
   ]
  },
  {
   "cell_type": "code",
   "execution_count": 21,
   "metadata": {},
   "outputs": [],
   "source": [
    "df19_22['Date mutation'] = pd.to_datetime(df19_22['Date mutation'])\n",
    "df19_22['Date mutation']\n"
   ]
  },
  {
   "cell_type": "code",
   "execution_count": 33,
   "metadata": {},
   "outputs": [
    {
     "data": {
      "text/plain": [
       "Index(['Unnamed: 0.1', 'Unnamed: 0', 'code_service_ch', 'reference_document',\n",
       "       'articles_1', 'articles_2', 'articles_3', 'articles_4', 'articles_5',\n",
       "       'numero_disposition', 'date_mutation', 'nature_mutation',\n",
       "       'valeur_fonciere', 'numero_voie', 'suffixe_numero', 'type_voie',\n",
       "       'code_voie', 'voie', 'code_postal', 'commune', 'code_departement',\n",
       "       'code_commune', 'prefixe_section', 'section', 'numero_plan',\n",
       "       'numero_volume', 'lot_1', 'surface_lot_1', 'lot_2', 'surface_lot_2',\n",
       "       'lot_3', 'surface_lot_3', 'lot_4', 'surface_lot_4', 'lot_5',\n",
       "       'surface_lot_51', 'nombre_lots', 'code_type_local', 'type_local',\n",
       "       'identifiant_local', 'surface_relle_bati', 'nombre_pieces_principales',\n",
       "       'nature_culture', 'nature_culture_speciale', 'surface_terrain', 'lat',\n",
       "       'lon', 'geom'],\n",
       "      dtype='object')"
      ]
     },
     "execution_count": 33,
     "metadata": {},
     "output_type": "execute_result"
    }
   ],
   "source": [
    "df_buch = pd.read_csv('df_buch_without_19.csv')\n",
    "df_buch.columns"
   ]
  },
  {
   "cell_type": "code",
   "execution_count": 37,
   "metadata": {},
   "outputs": [],
   "source": [
    "col = ['date_mutation', 'nature_mutation',\n",
    "       'valeur_fonciere', 'numero_voie', 'suffixe_numero', 'type_voie',\n",
    "       'code_voie', 'voie', 'code_postal','commune', 'section', 'numero_plan',\n",
    "       'numero_volume', 'nombre_lots', 'code_type_local', 'type_local',\n",
    "       'identifiant_local', 'surface_relle_bati', 'nombre_pieces_principales',\n",
    "       'nature_culture', 'nature_culture_speciale', 'surface_terrain']\n",
    "\n",
    "df_1_clean = df_buch[col]\n",
    "df_1_clean.to_csv(\"valeur_fonciere_buch_14_19.csv\")"
   ]
  },
  {
   "attachments": {},
   "cell_type": "markdown",
   "metadata": {},
   "source": [
    "il faut df19_22 appliqué des modifications au dataset pour le rendre exploitable et surtout pouvoir le rassembler avec l'autre notamment au niveau de la date "
   ]
  }
 ],
 "metadata": {
  "kernelspec": {
   "display_name": "simplon",
   "language": "python",
   "name": "python3"
  },
  "language_info": {
   "codemirror_mode": {
    "name": "ipython",
    "version": 3
   },
   "file_extension": ".py",
   "mimetype": "text/x-python",
   "name": "python",
   "nbconvert_exporter": "python",
   "pygments_lexer": "ipython3",
   "version": "3.8.12"
  },
  "orig_nbformat": 4,
  "vscode": {
   "interpreter": {
    "hash": "5ffc3325ec5109096cbaad909e2c7efe120797c08b76aeb49d9e3349cd32bd2b"
   }
  }
 },
 "nbformat": 4,
 "nbformat_minor": 2
}
