{
 "cells": [
  {
   "cell_type": "code",
   "execution_count": 2,
   "metadata": {},
   "outputs": [],
   "source": [
    "import pandas as pd\n",
    "import json"
   ]
  },
  {
   "attachments": {},
   "cell_type": "markdown",
   "metadata": {},
   "source": [
    "il faut df19_22 appliqué des modifications au dataset pour le rendre exploitable et surtout pouvoir le rassembler avec l'autre notamment au niveau de la date "
   ]
  },
  {
   "cell_type": "code",
   "execution_count": 21,
   "metadata": {},
   "outputs": [
    {
     "data": {
      "text/plain": [
       "array(['Unnamed: 0', 'Date mutation', 'Nature mutation',\n",
       "       'Valeur fonciere', 'No voie', 'B/T/Q', 'Type de voie', 'Code voie',\n",
       "       'Voie', 'Code postal', 'Commune', 'Section', 'No plan',\n",
       "       'No Volume', 'Nombre de lots', 'Code type local', 'Type local',\n",
       "       'Identifiant local', 'Surface reelle bati',\n",
       "       'Nombre pieces principales', 'Nature culture',\n",
       "       'Nature culture speciale', 'Surface terrain'], dtype=object)"
      ]
     },
     "execution_count": 21,
     "metadata": {},
     "output_type": "execute_result"
    }
   ],
   "source": [
    "df_1 = pd.read_csv('valeur_fonciere_buch_14_19.csv')\n",
    "df_2 = pd.read_csv('valeur_fonciere_buch_19_22.csv')\n",
    "df_3 = pd.concat([df_1,df_2])\n",
    "df_2.columns.values\n"
   ]
  },
  {
   "cell_type": "code",
   "execution_count": 26,
   "metadata": {},
   "outputs": [],
   "source": [
    "for i in range(len(df_2.columns)):\n",
    "    df_2.rename(columns={df_2.columns.values[i]:df_1.columns.values[i]}, inplace=True)\n",
    "df_2.columns.values\n",
    "df_2.to_csv('valeur_fonciere_buch_19_22.csv')"
   ]
  },
  {
   "cell_type": "code",
   "execution_count": 32,
   "metadata": {},
   "outputs": [],
   "source": [
    "df_3 = pd.concat([df_1,df_2], axis=0)\n",
    "df_3.to_csv(\"valeurs_fonciere_buch.csv\")"
   ]
  }
 ],
 "metadata": {
  "kernelspec": {
   "display_name": "simplon",
   "language": "python",
   "name": "python3"
  },
  "language_info": {
   "codemirror_mode": {
    "name": "ipython",
    "version": 3
   },
   "file_extension": ".py",
   "mimetype": "text/x-python",
   "name": "python",
   "nbconvert_exporter": "python",
   "pygments_lexer": "ipython3",
   "version": "3.8.12"
  },
  "orig_nbformat": 4,
  "vscode": {
   "interpreter": {
    "hash": "5ffc3325ec5109096cbaad909e2c7efe120797c08b76aeb49d9e3349cd32bd2b"
   }
  }
 },
 "nbformat": 4,
 "nbformat_minor": 2
}
